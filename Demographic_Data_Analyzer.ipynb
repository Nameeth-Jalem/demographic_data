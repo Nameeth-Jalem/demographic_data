{
  "nbformat": 4,
  "nbformat_minor": 0,
  "metadata": {
    "colab": {
      "provenance": []
    },
    "kernelspec": {
      "name": "python3",
      "display_name": "Python 3"
    },
    "language_info": {
      "name": "python"
    }
  },
  "cells": [
    {
      "cell_type": "code",
      "execution_count": 1,
      "metadata": {
        "id": "yRxEsR6jpa-O"
      },
      "outputs": [],
      "source": [
        "import pandas as pd\n"
      ]
    },
    {
      "cell_type": "code",
      "source": [
        "df = pd.read_csv('adult.data.csv')\n",
        "df.head(5)"
      ],
      "metadata": {
        "colab": {
          "base_uri": "https://localhost:8080/",
          "height": 328
        },
        "id": "SGUQA0MVqMwn",
        "outputId": "5d6345b0-e179-4b72-95f9-9081bceeb27a"
      },
      "execution_count": 2,
      "outputs": [
        {
          "output_type": "execute_result",
          "data": {
            "text/plain": [
              "   age         workclass  fnlwgt  education  education-num  \\\n",
              "0   39         State-gov   77516  Bachelors             13   \n",
              "1   50  Self-emp-not-inc   83311  Bachelors             13   \n",
              "2   38           Private  215646    HS-grad              9   \n",
              "3   53           Private  234721       11th              7   \n",
              "4   28           Private  338409  Bachelors             13   \n",
              "\n",
              "       marital-status         occupation   relationship   race     sex  \\\n",
              "0       Never-married       Adm-clerical  Not-in-family  White    Male   \n",
              "1  Married-civ-spouse    Exec-managerial        Husband  White    Male   \n",
              "2            Divorced  Handlers-cleaners  Not-in-family  White    Male   \n",
              "3  Married-civ-spouse  Handlers-cleaners        Husband  Black    Male   \n",
              "4  Married-civ-spouse     Prof-specialty           Wife  Black  Female   \n",
              "\n",
              "   capital-gain  capital-loss  hours-per-week native-country salary  \n",
              "0          2174             0              40  United-States  <=50K  \n",
              "1             0             0              13  United-States  <=50K  \n",
              "2             0             0              40  United-States  <=50K  \n",
              "3             0             0              40  United-States  <=50K  \n",
              "4             0             0              40           Cuba  <=50K  "
            ],
            "text/html": [
              "\n",
              "  <div id=\"df-0e0cad3c-2a00-41cf-af18-92164e6f674d\" class=\"colab-df-container\">\n",
              "    <div>\n",
              "<style scoped>\n",
              "    .dataframe tbody tr th:only-of-type {\n",
              "        vertical-align: middle;\n",
              "    }\n",
              "\n",
              "    .dataframe tbody tr th {\n",
              "        vertical-align: top;\n",
              "    }\n",
              "\n",
              "    .dataframe thead th {\n",
              "        text-align: right;\n",
              "    }\n",
              "</style>\n",
              "<table border=\"1\" class=\"dataframe\">\n",
              "  <thead>\n",
              "    <tr style=\"text-align: right;\">\n",
              "      <th></th>\n",
              "      <th>age</th>\n",
              "      <th>workclass</th>\n",
              "      <th>fnlwgt</th>\n",
              "      <th>education</th>\n",
              "      <th>education-num</th>\n",
              "      <th>marital-status</th>\n",
              "      <th>occupation</th>\n",
              "      <th>relationship</th>\n",
              "      <th>race</th>\n",
              "      <th>sex</th>\n",
              "      <th>capital-gain</th>\n",
              "      <th>capital-loss</th>\n",
              "      <th>hours-per-week</th>\n",
              "      <th>native-country</th>\n",
              "      <th>salary</th>\n",
              "    </tr>\n",
              "  </thead>\n",
              "  <tbody>\n",
              "    <tr>\n",
              "      <th>0</th>\n",
              "      <td>39</td>\n",
              "      <td>State-gov</td>\n",
              "      <td>77516</td>\n",
              "      <td>Bachelors</td>\n",
              "      <td>13</td>\n",
              "      <td>Never-married</td>\n",
              "      <td>Adm-clerical</td>\n",
              "      <td>Not-in-family</td>\n",
              "      <td>White</td>\n",
              "      <td>Male</td>\n",
              "      <td>2174</td>\n",
              "      <td>0</td>\n",
              "      <td>40</td>\n",
              "      <td>United-States</td>\n",
              "      <td>&lt;=50K</td>\n",
              "    </tr>\n",
              "    <tr>\n",
              "      <th>1</th>\n",
              "      <td>50</td>\n",
              "      <td>Self-emp-not-inc</td>\n",
              "      <td>83311</td>\n",
              "      <td>Bachelors</td>\n",
              "      <td>13</td>\n",
              "      <td>Married-civ-spouse</td>\n",
              "      <td>Exec-managerial</td>\n",
              "      <td>Husband</td>\n",
              "      <td>White</td>\n",
              "      <td>Male</td>\n",
              "      <td>0</td>\n",
              "      <td>0</td>\n",
              "      <td>13</td>\n",
              "      <td>United-States</td>\n",
              "      <td>&lt;=50K</td>\n",
              "    </tr>\n",
              "    <tr>\n",
              "      <th>2</th>\n",
              "      <td>38</td>\n",
              "      <td>Private</td>\n",
              "      <td>215646</td>\n",
              "      <td>HS-grad</td>\n",
              "      <td>9</td>\n",
              "      <td>Divorced</td>\n",
              "      <td>Handlers-cleaners</td>\n",
              "      <td>Not-in-family</td>\n",
              "      <td>White</td>\n",
              "      <td>Male</td>\n",
              "      <td>0</td>\n",
              "      <td>0</td>\n",
              "      <td>40</td>\n",
              "      <td>United-States</td>\n",
              "      <td>&lt;=50K</td>\n",
              "    </tr>\n",
              "    <tr>\n",
              "      <th>3</th>\n",
              "      <td>53</td>\n",
              "      <td>Private</td>\n",
              "      <td>234721</td>\n",
              "      <td>11th</td>\n",
              "      <td>7</td>\n",
              "      <td>Married-civ-spouse</td>\n",
              "      <td>Handlers-cleaners</td>\n",
              "      <td>Husband</td>\n",
              "      <td>Black</td>\n",
              "      <td>Male</td>\n",
              "      <td>0</td>\n",
              "      <td>0</td>\n",
              "      <td>40</td>\n",
              "      <td>United-States</td>\n",
              "      <td>&lt;=50K</td>\n",
              "    </tr>\n",
              "    <tr>\n",
              "      <th>4</th>\n",
              "      <td>28</td>\n",
              "      <td>Private</td>\n",
              "      <td>338409</td>\n",
              "      <td>Bachelors</td>\n",
              "      <td>13</td>\n",
              "      <td>Married-civ-spouse</td>\n",
              "      <td>Prof-specialty</td>\n",
              "      <td>Wife</td>\n",
              "      <td>Black</td>\n",
              "      <td>Female</td>\n",
              "      <td>0</td>\n",
              "      <td>0</td>\n",
              "      <td>40</td>\n",
              "      <td>Cuba</td>\n",
              "      <td>&lt;=50K</td>\n",
              "    </tr>\n",
              "  </tbody>\n",
              "</table>\n",
              "</div>\n",
              "    <div class=\"colab-df-buttons\">\n",
              "\n",
              "  <div class=\"colab-df-container\">\n",
              "    <button class=\"colab-df-convert\" onclick=\"convertToInteractive('df-0e0cad3c-2a00-41cf-af18-92164e6f674d')\"\n",
              "            title=\"Convert this dataframe to an interactive table.\"\n",
              "            style=\"display:none;\">\n",
              "\n",
              "  <svg xmlns=\"http://www.w3.org/2000/svg\" height=\"24px\" viewBox=\"0 -960 960 960\">\n",
              "    <path d=\"M120-120v-720h720v720H120Zm60-500h600v-160H180v160Zm220 220h160v-160H400v160Zm0 220h160v-160H400v160ZM180-400h160v-160H180v160Zm440 0h160v-160H620v160ZM180-180h160v-160H180v160Zm440 0h160v-160H620v160Z\"/>\n",
              "  </svg>\n",
              "    </button>\n",
              "\n",
              "  <style>\n",
              "    .colab-df-container {\n",
              "      display:flex;\n",
              "      gap: 12px;\n",
              "    }\n",
              "\n",
              "    .colab-df-convert {\n",
              "      background-color: #E8F0FE;\n",
              "      border: none;\n",
              "      border-radius: 50%;\n",
              "      cursor: pointer;\n",
              "      display: none;\n",
              "      fill: #1967D2;\n",
              "      height: 32px;\n",
              "      padding: 0 0 0 0;\n",
              "      width: 32px;\n",
              "    }\n",
              "\n",
              "    .colab-df-convert:hover {\n",
              "      background-color: #E2EBFA;\n",
              "      box-shadow: 0px 1px 2px rgba(60, 64, 67, 0.3), 0px 1px 3px 1px rgba(60, 64, 67, 0.15);\n",
              "      fill: #174EA6;\n",
              "    }\n",
              "\n",
              "    .colab-df-buttons div {\n",
              "      margin-bottom: 4px;\n",
              "    }\n",
              "\n",
              "    [theme=dark] .colab-df-convert {\n",
              "      background-color: #3B4455;\n",
              "      fill: #D2E3FC;\n",
              "    }\n",
              "\n",
              "    [theme=dark] .colab-df-convert:hover {\n",
              "      background-color: #434B5C;\n",
              "      box-shadow: 0px 1px 3px 1px rgba(0, 0, 0, 0.15);\n",
              "      filter: drop-shadow(0px 1px 2px rgba(0, 0, 0, 0.3));\n",
              "      fill: #FFFFFF;\n",
              "    }\n",
              "  </style>\n",
              "\n",
              "    <script>\n",
              "      const buttonEl =\n",
              "        document.querySelector('#df-0e0cad3c-2a00-41cf-af18-92164e6f674d button.colab-df-convert');\n",
              "      buttonEl.style.display =\n",
              "        google.colab.kernel.accessAllowed ? 'block' : 'none';\n",
              "\n",
              "      async function convertToInteractive(key) {\n",
              "        const element = document.querySelector('#df-0e0cad3c-2a00-41cf-af18-92164e6f674d');\n",
              "        const dataTable =\n",
              "          await google.colab.kernel.invokeFunction('convertToInteractive',\n",
              "                                                    [key], {});\n",
              "        if (!dataTable) return;\n",
              "\n",
              "        const docLinkHtml = 'Like what you see? Visit the ' +\n",
              "          '<a target=\"_blank\" href=https://colab.research.google.com/notebooks/data_table.ipynb>data table notebook</a>'\n",
              "          + ' to learn more about interactive tables.';\n",
              "        element.innerHTML = '';\n",
              "        dataTable['output_type'] = 'display_data';\n",
              "        await google.colab.output.renderOutput(dataTable, element);\n",
              "        const docLink = document.createElement('div');\n",
              "        docLink.innerHTML = docLinkHtml;\n",
              "        element.appendChild(docLink);\n",
              "      }\n",
              "    </script>\n",
              "  </div>\n",
              "\n",
              "\n",
              "<div id=\"df-ebe06d5c-ee1c-474d-af6e-519cbd4e8dba\">\n",
              "  <button class=\"colab-df-quickchart\" onclick=\"quickchart('df-ebe06d5c-ee1c-474d-af6e-519cbd4e8dba')\"\n",
              "            title=\"Suggest charts.\"\n",
              "            style=\"display:none;\">\n",
              "\n",
              "<svg xmlns=\"http://www.w3.org/2000/svg\" height=\"24px\"viewBox=\"0 0 24 24\"\n",
              "     width=\"24px\">\n",
              "    <g>\n",
              "        <path d=\"M19 3H5c-1.1 0-2 .9-2 2v14c0 1.1.9 2 2 2h14c1.1 0 2-.9 2-2V5c0-1.1-.9-2-2-2zM9 17H7v-7h2v7zm4 0h-2V7h2v10zm4 0h-2v-4h2v4z\"/>\n",
              "    </g>\n",
              "</svg>\n",
              "  </button>\n",
              "\n",
              "<style>\n",
              "  .colab-df-quickchart {\n",
              "      --bg-color: #E8F0FE;\n",
              "      --fill-color: #1967D2;\n",
              "      --hover-bg-color: #E2EBFA;\n",
              "      --hover-fill-color: #174EA6;\n",
              "      --disabled-fill-color: #AAA;\n",
              "      --disabled-bg-color: #DDD;\n",
              "  }\n",
              "\n",
              "  [theme=dark] .colab-df-quickchart {\n",
              "      --bg-color: #3B4455;\n",
              "      --fill-color: #D2E3FC;\n",
              "      --hover-bg-color: #434B5C;\n",
              "      --hover-fill-color: #FFFFFF;\n",
              "      --disabled-bg-color: #3B4455;\n",
              "      --disabled-fill-color: #666;\n",
              "  }\n",
              "\n",
              "  .colab-df-quickchart {\n",
              "    background-color: var(--bg-color);\n",
              "    border: none;\n",
              "    border-radius: 50%;\n",
              "    cursor: pointer;\n",
              "    display: none;\n",
              "    fill: var(--fill-color);\n",
              "    height: 32px;\n",
              "    padding: 0;\n",
              "    width: 32px;\n",
              "  }\n",
              "\n",
              "  .colab-df-quickchart:hover {\n",
              "    background-color: var(--hover-bg-color);\n",
              "    box-shadow: 0 1px 2px rgba(60, 64, 67, 0.3), 0 1px 3px 1px rgba(60, 64, 67, 0.15);\n",
              "    fill: var(--button-hover-fill-color);\n",
              "  }\n",
              "\n",
              "  .colab-df-quickchart-complete:disabled,\n",
              "  .colab-df-quickchart-complete:disabled:hover {\n",
              "    background-color: var(--disabled-bg-color);\n",
              "    fill: var(--disabled-fill-color);\n",
              "    box-shadow: none;\n",
              "  }\n",
              "\n",
              "  .colab-df-spinner {\n",
              "    border: 2px solid var(--fill-color);\n",
              "    border-color: transparent;\n",
              "    border-bottom-color: var(--fill-color);\n",
              "    animation:\n",
              "      spin 1s steps(1) infinite;\n",
              "  }\n",
              "\n",
              "  @keyframes spin {\n",
              "    0% {\n",
              "      border-color: transparent;\n",
              "      border-bottom-color: var(--fill-color);\n",
              "      border-left-color: var(--fill-color);\n",
              "    }\n",
              "    20% {\n",
              "      border-color: transparent;\n",
              "      border-left-color: var(--fill-color);\n",
              "      border-top-color: var(--fill-color);\n",
              "    }\n",
              "    30% {\n",
              "      border-color: transparent;\n",
              "      border-left-color: var(--fill-color);\n",
              "      border-top-color: var(--fill-color);\n",
              "      border-right-color: var(--fill-color);\n",
              "    }\n",
              "    40% {\n",
              "      border-color: transparent;\n",
              "      border-right-color: var(--fill-color);\n",
              "      border-top-color: var(--fill-color);\n",
              "    }\n",
              "    60% {\n",
              "      border-color: transparent;\n",
              "      border-right-color: var(--fill-color);\n",
              "    }\n",
              "    80% {\n",
              "      border-color: transparent;\n",
              "      border-right-color: var(--fill-color);\n",
              "      border-bottom-color: var(--fill-color);\n",
              "    }\n",
              "    90% {\n",
              "      border-color: transparent;\n",
              "      border-bottom-color: var(--fill-color);\n",
              "    }\n",
              "  }\n",
              "</style>\n",
              "\n",
              "  <script>\n",
              "    async function quickchart(key) {\n",
              "      const quickchartButtonEl =\n",
              "        document.querySelector('#' + key + ' button');\n",
              "      quickchartButtonEl.disabled = true;  // To prevent multiple clicks.\n",
              "      quickchartButtonEl.classList.add('colab-df-spinner');\n",
              "      try {\n",
              "        const charts = await google.colab.kernel.invokeFunction(\n",
              "            'suggestCharts', [key], {});\n",
              "      } catch (error) {\n",
              "        console.error('Error during call to suggestCharts:', error);\n",
              "      }\n",
              "      quickchartButtonEl.classList.remove('colab-df-spinner');\n",
              "      quickchartButtonEl.classList.add('colab-df-quickchart-complete');\n",
              "    }\n",
              "    (() => {\n",
              "      let quickchartButtonEl =\n",
              "        document.querySelector('#df-ebe06d5c-ee1c-474d-af6e-519cbd4e8dba button');\n",
              "      quickchartButtonEl.style.display =\n",
              "        google.colab.kernel.accessAllowed ? 'block' : 'none';\n",
              "    })();\n",
              "  </script>\n",
              "</div>\n",
              "    </div>\n",
              "  </div>\n"
            ]
          },
          "metadata": {},
          "execution_count": 2
        }
      ]
    },
    {
      "cell_type": "markdown",
      "source": [
        "# **How many people of each race are represented in this dataset? This should be a Pandas series with race names as the index labels. (race column)**"
      ],
      "metadata": {
        "id": "FGo9neUdrnDK"
      }
    },
    {
      "cell_type": "code",
      "source": [
        "df.race.value_counts()"
      ],
      "metadata": {
        "colab": {
          "base_uri": "https://localhost:8080/"
        },
        "id": "9Z06eVvgryLr",
        "outputId": "8a3aaec8-2ea4-4875-ccc4-993a2ef28561"
      },
      "execution_count": 3,
      "outputs": [
        {
          "output_type": "execute_result",
          "data": {
            "text/plain": [
              "White                 8314\n",
              "Black                  927\n",
              "Asian-Pac-Islander     297\n",
              "Amer-Indian-Eskimo      96\n",
              "Other                   79\n",
              "Name: race, dtype: int64"
            ]
          },
          "metadata": {},
          "execution_count": 3
        }
      ]
    },
    {
      "cell_type": "markdown",
      "source": [
        "**What is the average age of men?**"
      ],
      "metadata": {
        "id": "UXLNhWUsr7pv"
      }
    },
    {
      "cell_type": "code",
      "source": [
        "round(df[df.sex == 'Male'].age.mean(), 1)"
      ],
      "metadata": {
        "colab": {
          "base_uri": "https://localhost:8080/"
        },
        "id": "j_rBt644sBqg",
        "outputId": "80683fbf-25c6-423a-d0c5-c82d0a7e853b"
      },
      "execution_count": 4,
      "outputs": [
        {
          "output_type": "execute_result",
          "data": {
            "text/plain": [
              "39.2"
            ]
          },
          "metadata": {},
          "execution_count": 4
        }
      ]
    },
    {
      "cell_type": "markdown",
      "source": [
        "**What is the percentage of people who have a Bachelor's degree?bold text**"
      ],
      "metadata": {
        "id": "1kCeshaGsJ-6"
      }
    },
    {
      "cell_type": "code",
      "source": [
        "df.education.value_counts(normalize=True)['Bachelors']"
      ],
      "metadata": {
        "colab": {
          "base_uri": "https://localhost:8080/"
        },
        "id": "4HKm36RvsRny",
        "outputId": "76d37f34-29fe-49bb-b118-c7c03a9a8bea"
      },
      "execution_count": 5,
      "outputs": [
        {
          "output_type": "execute_result",
          "data": {
            "text/plain": [
              "0.16308040770101925"
            ]
          },
          "metadata": {},
          "execution_count": 5
        }
      ]
    },
    {
      "cell_type": "markdown",
      "source": [
        "**What percentage of people with advanced education (Bachelors, Masters, or Doctorate) make more than 50K?**"
      ],
      "metadata": {
        "id": "hWKd_Yylskyb"
      }
    },
    {
      "cell_type": "code",
      "source": [
        "advanced_education = ['Bachelors', 'Masters', 'Doctorate']\n",
        "df[df.education.isin(advanced_education)].salary.value_counts(normalize=True)['>50K']"
      ],
      "metadata": {
        "colab": {
          "base_uri": "https://localhost:8080/"
        },
        "id": "1GjZDwShsvk5",
        "outputId": "101a35e3-67a1-4c96-c80f-f5fdc40ddbaf"
      },
      "execution_count": 6,
      "outputs": [
        {
          "output_type": "execute_result",
          "data": {
            "text/plain": [
              "0.4612596284549162"
            ]
          },
          "metadata": {},
          "execution_count": 6
        }
      ]
    },
    {
      "cell_type": "markdown",
      "source": [
        "**What percentage of people without advanced education make more than 50K?**"
      ],
      "metadata": {
        "id": "2QIBOHrys1-O"
      }
    },
    {
      "cell_type": "code",
      "source": [
        "df[~df.education.isin(advanced_education)].salary.value_counts(normalize=True)['>50K']"
      ],
      "metadata": {
        "colab": {
          "base_uri": "https://localhost:8080/"
        },
        "id": "Mt17dXSOs7Iy",
        "outputId": "8b5e4d20-68d9-4101-a349-ef6d644d60d3"
      },
      "execution_count": 7,
      "outputs": [
        {
          "output_type": "execute_result",
          "data": {
            "text/plain": [
              "0.1716189207195203"
            ]
          },
          "metadata": {},
          "execution_count": 7
        }
      ]
    },
    {
      "cell_type": "markdown",
      "source": [
        "**What is the minimum number of hours a person works per week?**"
      ],
      "metadata": {
        "id": "-CIPfLn1tD8h"
      }
    },
    {
      "cell_type": "code",
      "source": [
        "df[df['hours-per-week'] == df['hours-per-week'].min()].salary.value_counts(normalize=True)['>50K']\n"
      ],
      "metadata": {
        "colab": {
          "base_uri": "https://localhost:8080/"
        },
        "id": "_DBNKlvVtG5k",
        "outputId": "d9d87de0-e2d4-432e-c23b-98c4e3c9076e"
      },
      "execution_count": 8,
      "outputs": [
        {
          "output_type": "execute_result",
          "data": {
            "text/plain": [
              "0.1111111111111111"
            ]
          },
          "metadata": {},
          "execution_count": 8
        }
      ]
    },
    {
      "cell_type": "markdown",
      "source": [
        "**What country has the highest percentage of people that earn >50K and what is that percentage?**"
      ],
      "metadata": {
        "id": "ck3GVeXJtSLd"
      }
    },
    {
      "cell_type": "code",
      "source": [
        "countries = df['native-country'].value_counts()\n",
        "countries"
      ],
      "metadata": {
        "colab": {
          "base_uri": "https://localhost:8080/"
        },
        "id": "C5s0AXFjtZ8e",
        "outputId": "f0617292-cba5-4b54-bd6f-b81d44e89056"
      },
      "execution_count": 9,
      "outputs": [
        {
          "output_type": "execute_result",
          "data": {
            "text/plain": [
              "United-States                 8687\n",
              "Mexico                         200\n",
              "?                              175\n",
              "Philippines                     48\n",
              "Canada                          46\n",
              "Germany                         43\n",
              "Puerto-Rico                     34\n",
              "Jamaica                         29\n",
              "Cuba                            29\n",
              "China                           28\n",
              "El-Salvador                     28\n",
              "England                         26\n",
              "South                           25\n",
              "India                           24\n",
              "Vietnam                         23\n",
              "Dominican-Republic              22\n",
              "Poland                          22\n",
              "Iran                            20\n",
              "Japan                           20\n",
              "Guatemala                       20\n",
              "Italy                           19\n",
              "Greece                          17\n",
              "Taiwan                          16\n",
              "Haiti                           14\n",
              "Portugal                        12\n",
              "Nicaragua                       10\n",
              "Columbia                         9\n",
              "Ecuador                          7\n",
              "Thailand                         7\n",
              "Peru                             7\n",
              "Cambodia                         7\n",
              "Ireland                          6\n",
              "Trinadad&Tobago                  6\n",
              "Honduras                         5\n",
              "Laos                             4\n",
              "Outlying-US(Guam-USVI-etc)       4\n",
              "Yugoslavia                       4\n",
              "France                           4\n",
              "Scotland                         3\n",
              "Hong                             1\n",
              "Hungary                          1\n",
              "Name: native-country, dtype: int64"
            ]
          },
          "metadata": {},
          "execution_count": 9
        }
      ]
    },
    {
      "cell_type": "code",
      "source": [
        "rich_countries = df[df.salary =='>50K'].groupby('native-country')['salary'].size()\n",
        "rich_countries"
      ],
      "metadata": {
        "colab": {
          "base_uri": "https://localhost:8080/"
        },
        "id": "zAQoAP9ZtfOS",
        "outputId": "2b6be69c-e2e4-4e60-fbb7-fbff252c117d"
      },
      "execution_count": 10,
      "outputs": [
        {
          "output_type": "execute_result",
          "data": {
            "text/plain": [
              "native-country\n",
              "?                       51\n",
              "Cambodia                 3\n",
              "Canada                  18\n",
              "China                    5\n",
              "Columbia                 1\n",
              "Cuba                     4\n",
              "Dominican-Republic       2\n",
              "El-Salvador              3\n",
              "England                  7\n",
              "France                   1\n",
              "Germany                 12\n",
              "Greece                   4\n",
              "Guatemala                1\n",
              "Haiti                    1\n",
              "Honduras                 1\n",
              "India                    6\n",
              "Iran                     9\n",
              "Ireland                  1\n",
              "Italy                    9\n",
              "Jamaica                  6\n",
              "Japan                    6\n",
              "Mexico                  12\n",
              "Peru                     1\n",
              "Philippines             13\n",
              "Poland                   3\n",
              "Portugal                 2\n",
              "Puerto-Rico              5\n",
              "South                    2\n",
              "Taiwan                   8\n",
              "Thailand                 2\n",
              "United-States         2104\n",
              "Vietnam                  2\n",
              "Yugoslavia               1\n",
              "Name: salary, dtype: int64"
            ]
          },
          "metadata": {},
          "execution_count": 10
        }
      ]
    },
    {
      "cell_type": "code",
      "source": [
        "result = (rich_countries/countries) * 100\n",
        "result"
      ],
      "metadata": {
        "colab": {
          "base_uri": "https://localhost:8080/"
        },
        "id": "JdJpwn56tkGY",
        "outputId": "e13a42fe-7962-4eb2-a213-43e89353034d"
      },
      "execution_count": 11,
      "outputs": [
        {
          "output_type": "execute_result",
          "data": {
            "text/plain": [
              "?                             29.142857\n",
              "Cambodia                      42.857143\n",
              "Canada                        39.130435\n",
              "China                         17.857143\n",
              "Columbia                      11.111111\n",
              "Cuba                          13.793103\n",
              "Dominican-Republic             9.090909\n",
              "Ecuador                             NaN\n",
              "El-Salvador                   10.714286\n",
              "England                       26.923077\n",
              "France                        25.000000\n",
              "Germany                       27.906977\n",
              "Greece                        23.529412\n",
              "Guatemala                      5.000000\n",
              "Haiti                          7.142857\n",
              "Honduras                      20.000000\n",
              "Hong                                NaN\n",
              "Hungary                             NaN\n",
              "India                         25.000000\n",
              "Iran                          45.000000\n",
              "Ireland                       16.666667\n",
              "Italy                         47.368421\n",
              "Jamaica                       20.689655\n",
              "Japan                         30.000000\n",
              "Laos                                NaN\n",
              "Mexico                         6.000000\n",
              "Nicaragua                           NaN\n",
              "Outlying-US(Guam-USVI-etc)          NaN\n",
              "Peru                          14.285714\n",
              "Philippines                   27.083333\n",
              "Poland                        13.636364\n",
              "Portugal                      16.666667\n",
              "Puerto-Rico                   14.705882\n",
              "Scotland                            NaN\n",
              "South                          8.000000\n",
              "Taiwan                        50.000000\n",
              "Thailand                      28.571429\n",
              "Trinadad&Tobago                     NaN\n",
              "United-States                 24.220099\n",
              "Vietnam                        8.695652\n",
              "Yugoslavia                    25.000000\n",
              "dtype: float64"
            ]
          },
          "metadata": {},
          "execution_count": 11
        }
      ]
    },
    {
      "cell_type": "code",
      "source": [
        "result.idxmax()"
      ],
      "metadata": {
        "colab": {
          "base_uri": "https://localhost:8080/",
          "height": 35
        },
        "id": "TdFqiJuBtnaV",
        "outputId": "c1fb8088-8f6a-48f2-8f81-fc97b513e2f4"
      },
      "execution_count": 12,
      "outputs": [
        {
          "output_type": "execute_result",
          "data": {
            "text/plain": [
              "'Taiwan'"
            ],
            "application/vnd.google.colaboratory.intrinsic+json": {
              "type": "string"
            }
          },
          "metadata": {},
          "execution_count": 12
        }
      ]
    },
    {
      "cell_type": "code",
      "source": [
        "result.max()"
      ],
      "metadata": {
        "colab": {
          "base_uri": "https://localhost:8080/"
        },
        "id": "OEWw7vR8tqI4",
        "outputId": "c3360899-106f-415a-8b45-63bb126ae800"
      },
      "execution_count": 13,
      "outputs": [
        {
          "output_type": "execute_result",
          "data": {
            "text/plain": [
              "50.0"
            ]
          },
          "metadata": {},
          "execution_count": 13
        }
      ]
    },
    {
      "cell_type": "markdown",
      "source": [
        "**Identify the most popular occupation for those who earn >50K in India.**"
      ],
      "metadata": {
        "id": "KJuOiBDJtv31"
      }
    },
    {
      "cell_type": "code",
      "source": [
        "df[(df['native-country'] == 'India') & (df.salary == '>50K')].occupation.value_counts().idxmax()"
      ],
      "metadata": {
        "colab": {
          "base_uri": "https://localhost:8080/",
          "height": 35
        },
        "id": "BMCrAUOityjU",
        "outputId": "79115c30-d5f7-43a2-f72c-f8681cd7055b"
      },
      "execution_count": 14,
      "outputs": [
        {
          "output_type": "execute_result",
          "data": {
            "text/plain": [
              "'Prof-specialty'"
            ],
            "application/vnd.google.colaboratory.intrinsic+json": {
              "type": "string"
            }
          },
          "metadata": {},
          "execution_count": 14
        }
      ]
    },
    {
      "cell_type": "code",
      "source": [
        "def calculate_demographic_data(print_data=True):\n",
        "    # Read data from file\n",
        "    df = pd.read_csv('adult.data.csv')\n",
        "\n",
        "    # How many of each race are represented in this dataset? This should be a Pandas series with race names as the index labels.\n",
        "    race_count = df.race.value_counts()\n",
        "\n",
        "    # What is the average age of men?\n",
        "    average_age_men = round(df[df.sex == 'Male'].age.mean(), 1)\n",
        "\n",
        "    # What is the percentage of people who have a Bachelor's degree?\n",
        "    percentage_bachelors = round(df.education.value_counts(normalize=True)['Bachelors'] * 100, 1)\n",
        "\n",
        "    # What percentage of people with advanced education (`Bachelors`, `Masters`, or `Doctorate`) make more than 50K?\n",
        "\n",
        "    # What percentage of people without advanced education make more than 50K?\n",
        "\n",
        "    # with and without `Bachelors`, `Masters`, or `Doctorate`\n",
        "    advanced_education = ['Bachelors', 'Masters', 'Doctorate']\n",
        "\n",
        "    higher_education = df[df.education.isin(advanced_education)]\n",
        "    lower_education =  df[~df.education.isin(advanced_education)]\n",
        "\n",
        "    # percentage with salary >50K\n",
        "    higher_education_rich = round(higher_education.salary.value_counts(normalize=True)['>50K'] * 100, 1)\n",
        "    lower_education_rich = round(lower_education.salary.value_counts(normalize=True)['>50K'] * 100, 1)\n",
        "\n",
        "    # What is the minimum number of hours a person works per week (hours-per-week feature)?\n",
        "    min_work_hours = df['hours-per-week'].min()\n",
        "\n",
        "    # What percentage of the people who work the minimum number of hours per week have a salary of >50K?\n",
        "    num_min_workers = df[df['hours-per-week'] == df['hours-per-week'].min()]\n",
        "\n",
        "    rich_percentage = num_min_workers.salary.value_counts(normalize=True)['>50K'] * 100\n",
        "\n",
        "    # What country has the highest percentage of people that earn >50K?\n",
        "    grouped_highest_earnings = df[df.salary == '>50K'].groupby('native-country')['salary'].count() / df['native-country'].value_counts()\n",
        "\n",
        "    highest_earning_country = grouped_highest_earnings.idxmax()\n",
        "    highest_earning_country_percentage = round(grouped_highest_earnings.max()*100, 1)\n",
        "\n",
        "    # Identify the most popular occupation for those who earn >50K in India.\n",
        "    top_IN_occupation = df[(df['native-country'] == 'India') & (df.salary == '>50K')].occupation.value_counts().idxmax()\n",
        "\n",
        "\n",
        "\n",
        "\n",
        "    if print_data:\n",
        "        print(\"Number of each race:\\n\", race_count)\n",
        "        print(\"Average age of men:\", average_age_men)\n",
        "        print(f\"Percentage with Bachelors degrees: {percentage_bachelors}%\")\n",
        "        print(f\"Percentage with higher education that earn >50K: {higher_education_rich}%\")\n",
        "        print(f\"Percentage without higher education that earn >50K: {lower_education_rich}%\")\n",
        "        print(f\"Min work time: {min_work_hours} hours/week\")\n",
        "        print(f\"Percentage of rich among those who work fewest hours: {rich_percentage}%\")\n",
        "        print(\"Country with highest percentage of rich:\", highest_earning_country)\n",
        "        print(f\"Highest percentage of rich people in country: {highest_earning_country_percentage}%\")\n",
        "        print(\"Top occupations in India:\", top_IN_occupation)\n",
        "\n",
        "    return {\n",
        "        'race_count': race_count,\n",
        "        'average_age_men': average_age_men,\n",
        "        'percentage_bachelors': percentage_bachelors,\n",
        "        'higher_education_rich': higher_education_rich,\n",
        "        'lower_education_rich': lower_education_rich,\n",
        "        'min_work_hours': min_work_hours,\n",
        "        'rich_percentage': rich_percentage,\n",
        "        'highest_earning_country': highest_earning_country,\n",
        "        'highest_earning_country_percentage':\n",
        "        highest_earning_country_percentage,\n",
        "        'top_IN_occupation': top_IN_occupation\n",
        "    }\n",
        "\n",
        "\n"
      ],
      "metadata": {
        "id": "CHmB5CRuuEYc"
      },
      "execution_count": 17,
      "outputs": []
    },
    {
      "cell_type": "code",
      "source": [
        "calculate_demographic_data(False)"
      ],
      "metadata": {
        "colab": {
          "base_uri": "https://localhost:8080/"
        },
        "id": "9ssdaewVuZyq",
        "outputId": "e17c6412-8b09-41a9-87cb-b6b5e7aaa7ea"
      },
      "execution_count": 18,
      "outputs": [
        {
          "output_type": "execute_result",
          "data": {
            "text/plain": [
              "{'race_count': White                 27816\n",
              " Black                  3124\n",
              " Asian-Pac-Islander     1039\n",
              " Amer-Indian-Eskimo      311\n",
              " Other                   271\n",
              " Name: race, dtype: int64,\n",
              " 'average_age_men': 39.4,\n",
              " 'percentage_bachelors': 16.4,\n",
              " 'higher_education_rich': 46.5,\n",
              " 'lower_education_rich': 17.4,\n",
              " 'min_work_hours': 1,\n",
              " 'rich_percentage': 10.0,\n",
              " 'highest_earning_country': 'Iran',\n",
              " 'highest_earning_country_percentage': 41.9,\n",
              " 'top_IN_occupation': 'Prof-specialty'}"
            ]
          },
          "metadata": {},
          "execution_count": 18
        }
      ]
    }
  ]
}